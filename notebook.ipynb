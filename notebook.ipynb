{
 "cells": [
  {
   "cell_type": "code",
   "execution_count": 1,
   "id": "18e23ac8-3b2a-4cd4-b996-31bff9ff98bb",
   "metadata": {},
   "outputs": [],
   "source": [
    "import pandas as pd\n",
    "import numpy as np\n",
    "from sklearn.decomposition import PCA\n",
    "from sklearn.preprocessing import StandardScaler\n",
    "import seaborn as sns\n",
    "import matplotlib.pyplot as plt\n",
    "import time\n",
    "import joblib\n",
    "import pickle\n",
    "from surprise import dump\n",
    "from surprise import accuracy, Dataset, SVD, KNNBasic, BaselineOnly, Reader, NMF\n",
    "from surprise.model_selection import cross_validate, train_test_split\n",
    "from surprise import Reader\n",
    "from surprise import Dataset\n",
    "from surprise.model_selection import cross_validate\n",
    "from surprise import NormalPredictor\n",
    "from surprise import KNNBasic\n",
    "from surprise import KNNWithMeans\n",
    "from surprise import KNNWithZScore\n",
    "from surprise import KNNBaseline\n",
    "from surprise import SVD\n",
    "from surprise import BaselineOnly\n",
    "from surprise import SVDpp\n",
    "from surprise import NMF\n",
    "from surprise import SlopeOne\n",
    "from surprise import CoClustering\n",
    "from surprise.accuracy import rmse\n",
    "from surprise import accuracy\n",
    "from surprise.model_selection import train_test_split\n",
    "from surprise.model_selection import GridSearchCV\n",
    "from pandas_profiling import ProfileReport\n",
    "from sklearn.metrics.pairwise import cosine_similarity\n",
    "from tqdm import tqdm\n",
    "tqdm.pandas()"
   ]
  },
  {
   "cell_type": "markdown",
   "id": "abdf6805-c887-42b9-bd75-b28e97e50256",
   "metadata": {},
   "source": [
    "### <font color='#191970'> I Chargement des jeux de données</font>\n",
    "#### <font color='#191970'>&#9630;   Concatenations des jeux de données clicks</font>"
   ]
  },
  {
   "cell_type": "code",
   "execution_count": 2,
   "id": "9562f983-37db-46a3-aae7-309c85b8864f",
   "metadata": {},
   "outputs": [],
   "source": [
    "clicks = pd.read_csv('clicks/clicks_hour_000.csv')\n",
    "for i in range(1,385):\n",
    "    path = 'clicks/clicks_hour_'+str(i).rjust(3, '0')+'.csv'\n",
    "    clicks_to_add = pd.read_csv(path)\n",
    "    clicks = pd.concat([clicks,clicks_to_add])\n",
    "clicks.reset_index(inplace=True, drop=True)"
   ]
  },
  {
   "cell_type": "code",
   "execution_count": 2,
   "id": "92126eef-e79a-4bab-894d-b3345b106c90",
   "metadata": {},
   "outputs": [],
   "source": [
    "clicks = pd.read_csv('clicks.csv')"
   ]
  },
  {
   "cell_type": "code",
   "execution_count": 3,
   "id": "f86a47e4-98a0-4ca0-8f22-46b6ea74019b",
   "metadata": {},
   "outputs": [
    {
     "name": "stdout",
     "output_type": "stream",
     "text": [
      "shape of articles_metadata:  (364047, 5)\n",
      "shape of clicks:  (2988181, 12)\n",
      "shape of embeddings:  (364047, 250)\n"
     ]
    }
   ],
   "source": [
    "articles_metadata = pd.read_csv('articles_metadata.csv')\n",
    "embeddings = pd.read_pickle(r'articles_embeddings.pickle')\n",
    "print('shape of articles_metadata: ',articles_metadata.shape)\n",
    "print('shape of clicks: ', clicks.shape)\n",
    "print('shape of embeddings: ', embeddings.shape)"
   ]
  },
  {
   "cell_type": "markdown",
   "id": "5f703f9e-8a7f-4a53-a328-b91d514af905",
   "metadata": {},
   "source": [
    "#### <font color='#191970'>&#9630;   Transformation des dates</font>"
   ]
  },
  {
   "cell_type": "code",
   "execution_count": 4,
   "id": "d95221d6-b8fe-4856-abc2-5f92f17dcd65",
   "metadata": {},
   "outputs": [
    {
     "name": "stderr",
     "output_type": "stream",
     "text": [
      "100%|███████████████████████████████████████████████████████████████████████| 364047/364047 [00:03<00:00, 99967.19it/s]\n",
      "100%|████████████████████████████████████████████████████████████████████| 2988181/2988181 [00:26<00:00, 112905.07it/s]\n",
      "100%|████████████████████████████████████████████████████████████████████| 2988181/2988181 [00:26<00:00, 111609.86it/s]\n"
     ]
    }
   ],
   "source": [
    "def function(integer):\n",
    "    return time.ctime(int(integer/1000))\n",
    "\n",
    "articles_metadata['created_at_ts'] = articles_metadata['created_at_ts'].progress_apply(function)\n",
    "articles_metadata['created_at_ts'] = pd.to_datetime(articles_metadata.created_at_ts)\n",
    "clicks['session_start'] = clicks['session_start'].progress_apply(function)\n",
    "clicks['click_timestamp'] = clicks['click_timestamp'].progress_apply(function)\n",
    "clicks['session_start'] = pd.to_datetime(clicks.session_start)\n",
    "clicks['click_timestamp'] = pd.to_datetime(clicks.click_timestamp)\n",
    "clicks = clicks.sort_values(['user_id','click_timestamp'], ascending = [True,False])  # on ordonne les click par user_id et par ordre décroissant de click_timestamp\n",
    "clicks.to_csv('clicks.csv', index_label=False)\n",
    "articles_metadata.to_csv('articles_metadata_timed.csv', index_label=False)"
   ]
  },
  {
   "cell_type": "markdown",
   "id": "9a560c8b-f3d0-4cba-ac68-cefe35675204",
   "metadata": {},
   "source": [
    "#### <font color='#191970'>&#9630;   PCA sur les embeddings des articles</font>"
   ]
  },
  {
   "cell_type": "code",
   "execution_count": 4,
   "id": "5b3107a5-838a-45bb-81ea-a56641ba48f5",
   "metadata": {},
   "outputs": [
    {
     "data": {
      "image/png": "[encoded data removed]",
      "text/plain": [
       "<Figure size 432x288 with 1 Axes>"
      ]
     },
     "metadata": {
      "needs_background": "light"
     },
     "output_type": "display_data"
    }
   ],
   "source": [
    "scaler = StandardScaler()\n",
    "embeddings_scaled = scaler.fit_transform(embeddings)\n",
    "pca = PCA(n_components=embeddings.shape[1])\n",
    "pca.fit(embeddings_scaled)\n",
    "plt.plot(np.cumsum(pca.explained_variance_ratio_))\n",
    "plt.xlabel('nombre de composantes')\n",
    "plt.ylabel('variance expliquée');"
   ]
  },
  {
   "cell_type": "code",
   "execution_count": 5,
   "id": "8f2f40c7-e8b7-4e2c-810c-e830941dd74d",
   "metadata": {},
   "outputs": [
    {
     "name": "stdout",
     "output_type": "stream",
     "text": [
      "Avec 52 composantes, la variance expliquée est de 95.16950039141304 %\n"
     ]
    }
   ],
   "source": [
    "for i, j in enumerate(np.cumsum(pca.explained_variance_ratio_)):\n",
    "    if j>.95:\n",
    "        print(f'Avec {i} composantes, la variance expliquée est de {j*100} %')\n",
    "        break"
   ]
  },
  {
   "cell_type": "code",
   "execution_count": 6,
   "id": "8c53a97e-3df3-4b09-840e-8642690f3864",
   "metadata": {},
   "outputs": [],
   "source": [
    "scaler_ = StandardScaler()\n",
    "embeddings_scaled_ = scaler_.fit_transform(embeddings)\n",
    "pca = PCA(n_components=52)\n",
    "embeddings_pca = pca.fit_transform(embeddings_scaled_)\n",
    "\n",
    "pd.DataFrame(data=embeddings_pca).to_csv('embeddings_pca.csv')\n",
    "embeddings_scaled = pd.read_csv('embeddings_pca.csv')\n",
    "embeddings_scaled.columns =  embeddings_scaled.columns.str.replace('Unnamed: 0', 'article_id')"
   ]
  },
  {
   "cell_type": "markdown",
   "id": "14839d6b-e809-462f-b088-afbcf5080729",
   "metadata": {},
   "source": [
    "### <font color='#191970'> II Content Based Filtering</font>\n",
    "#### <font color='#191970'>&#9630;   Dernier article cliqué par un utilisateur</font>"
   ]
  },
  {
   "cell_type": "code",
   "execution_count": 7,
   "id": "5b3cd4d5-622c-41ca-9b80-3f5b8d0493a5",
   "metadata": {},
   "outputs": [],
   "source": [
    "latest_article = clicks[['user_id', 'click_timestamp','click_article_id']].groupby('user_id').agg({'click_timestamp':'first', 'click_article_id':'first'})"
   ]
  },
  {
   "cell_type": "code",
   "execution_count": 8,
   "id": "601f12d1-1f91-4f5f-868d-9264534bc62b",
   "metadata": {},
   "outputs": [],
   "source": [
    "def dernier_article(user_id):\n",
    "    #print(f\"le dernier article lu par l'utilisateur d'identifiant {user_id} a pour code {latest_article.iloc[user_id][1]}\")\n",
    "    return latest_article.iloc[user_id][1]"
   ]
  },
  {
   "cell_type": "markdown",
   "id": "039670b9-542f-4663-9bd9-bf939b3add48",
   "metadata": {},
   "source": [
    "#### <font color='#191970'>&#9630;   Liste des articles lus par un utilisateur</font>"
   ]
  },
  {
   "cell_type": "code",
   "execution_count": 9,
   "id": "1c57fdff-9db8-48ca-9214-5ac71bb8320d",
   "metadata": {},
   "outputs": [],
   "source": [
    "liste_articles_lus = clicks.groupby('user_id').agg(liste_des_articles = ('click_article_id', lambda x: list(x)))"
   ]
  },
  {
   "cell_type": "code",
   "execution_count": 10,
   "id": "a83f8264-6089-41fe-8427-03fc4498c574",
   "metadata": {},
   "outputs": [],
   "source": [
    "def liste_des_articles_lus(user_id):\n",
    "    return list(set(liste_articles_lus.iloc[user_id][0]))"
   ]
  },
  {
   "cell_type": "markdown",
   "id": "7dca28a4-1d36-4ec1-a949-0449562caefe",
   "metadata": {},
   "source": [
    "#### <font color='#191970'>&#9630;   DataFrame des embeddings d'articles non lus par un utilisateur</font>"
   ]
  },
  {
   "cell_type": "code",
   "execution_count": 11,
   "id": "dcb10e12-b625-4a57-9e28-ac4c96e894ca",
   "metadata": {},
   "outputs": [
    {
     "name": "stdout",
     "output_type": "stream",
     "text": [
      "Il existe au total 364047 articles et nous avons 364047 embbedings d'articles\n"
     ]
    }
   ],
   "source": [
    "print(f\"Il existe au total {articles_metadata['article_id'].nunique()} articles et nous avons {embeddings_scaled.shape[0]} embbedings d'articles\")"
   ]
  },
  {
   "cell_type": "code",
   "execution_count": 12,
   "id": "f4a83130-d16b-4b5f-95a9-acb9a463a1f5",
   "metadata": {},
   "outputs": [],
   "source": [
    "def df_des_articles_non_lus_par_un_utilisateur(user_id):\n",
    "    return embeddings_scaled.drop(liste_des_articles_lus(user_id))"
   ]
  },
  {
   "cell_type": "code",
   "execution_count": 13,
   "id": "3e6b70b4-b7a6-4ee1-9b52-f5f47e9b7787",
   "metadata": {},
   "outputs": [],
   "source": [
    "def meilleurs_recommendations(user_id):\n",
    "    liste_mesure_cosine = []\n",
    "    x_0 = df_des_articles_non_lus_par_un_utilisateur(user_id)\n",
    "    y = np.array(embeddings_scaled.loc[dernier_article(user_id)][1:].values)\n",
    "    norm_y = np.linalg.norm(y)\n",
    "    for i in range(364047-len(liste_des_articles_lus(user_id))):\n",
    "        x = np.array(x_0.iloc[i][1:].values) \n",
    "        norm_x = np.linalg.norm(x)\n",
    "        dot_product = np.linalg.norm(np.dot(x,y)/(norm_x*norm_y))\n",
    "        liste_mesure_cosine.append(dot_product)\n",
    "    df_result = pd.DataFrame(data={'mesure':liste_mesure_cosine}, index=df_des_articles_non_lus_par_un_utilisateur(user_id).index)\n",
    "    result = df_result.sort_values('mesure', ascending=True)[:5]\n",
    "    print(f\"Au dernier article d'identifiant {dernier_article(user_id)} lu par l'utilisateur {user_id}, on recommande les articles suivants: \")\n",
    "    return result"
   ]
  },
  {
   "cell_type": "code",
   "execution_count": 40,
   "id": "e8dd3a4b-97c2-4532-bc5d-1de9e4ffc088",
   "metadata": {},
   "outputs": [
    {
     "name": "stdout",
     "output_type": "stream",
     "text": [
      "Au dernier article d'identifiant 123757 lu par l'utilisateur 1000, on recommande les articles suivants: \n",
      "CPU times: total: 46.1 s\n",
      "Wall time: 48.3 s\n"
     ]
    },
    {
     "data": {
      "text/html": [
       "<div>\n",
       "<style scoped>\n",
       "    .dataframe tbody tr th:only-of-type {\n",
       "        vertical-align: middle;\n",
       "    }\n",
       "\n",
       "    .dataframe tbody tr th {\n",
       "        vertical-align: top;\n",
       "    }\n",
       "\n",
       "    .dataframe thead th {\n",
       "        text-align: right;\n",
       "    }\n",
       "</style>\n",
       "<table border=\"1\" class=\"dataframe\">\n",
       "  <thead>\n",
       "    <tr style=\"text-align: right;\">\n",
       "      <th></th>\n",
       "      <th>mesure</th>\n",
       "    </tr>\n",
       "  </thead>\n",
       "  <tbody>\n",
       "    <tr>\n",
       "      <th>207989</th>\n",
       "      <td>5.434552e-07</td>\n",
       "    </tr>\n",
       "    <tr>\n",
       "      <th>304273</th>\n",
       "      <td>1.442133e-06</td>\n",
       "    </tr>\n",
       "    <tr>\n",
       "      <th>193307</th>\n",
       "      <td>2.155320e-06</td>\n",
       "    </tr>\n",
       "    <tr>\n",
       "      <th>206797</th>\n",
       "      <td>2.867090e-06</td>\n",
       "    </tr>\n",
       "    <tr>\n",
       "      <th>201923</th>\n",
       "      <td>3.784134e-06</td>\n",
       "    </tr>\n",
       "  </tbody>\n",
       "</table>\n",
       "</div>"
      ],
      "text/plain": [
       "              mesure\n",
       "207989  5.434552e-07\n",
       "304273  1.442133e-06\n",
       "193307  2.155320e-06\n",
       "206797  2.867090e-06\n",
       "201923  3.784134e-06"
      ]
     },
     "execution_count": 40,
     "metadata": {},
     "output_type": "execute_result"
    }
   ],
   "source": [
    "%%time\n",
    "meilleurs_recommendations(1000)"
   ]
  },
  {
   "cell_type": "markdown",
   "id": "22c97c7c-704f-45aa-a312-e94540427c2c",
   "metadata": {},
   "source": [
    "### <font color='#191970'> III Collaborative Filtering</font>\n",
    "\n",
    "Le Collaborative Filtering repose sur l'analyse du rating des articles par les utilisateurs. Ici pour faire simple, on établira le rating comme le nombre de fois qu'un utilisateur a cliqué sur un article. Pour se faire, regroupons les utilisateurs par leur identifiant 'user_id'. Puis, on considère qu'un article a été lu si il existe une session pour laquelle cet article apparait. Faisons un nouveau regroupement sur les 'articles_id' et comptons les 'session_id' pour chacun d'eux.\n",
    "\n",
    "#### <font color='#191970'>&#9630;   Réagencement des données pour la librairie SURPRISE</font>"
   ]
  },
  {
   "cell_type": "code",
   "execution_count": 12,
   "id": "dee5a3aa-308a-4c14-a9aa-b14999e867df",
   "metadata": {},
   "outputs": [],
   "source": [
    "df_collaborative = pd.read_csv('clicks.csv')"
   ]
  },
  {
   "cell_type": "code",
   "execution_count": 13,
   "id": "f686c861-e2b8-48a8-915e-3ad377050e1f",
   "metadata": {},
   "outputs": [],
   "source": [
    "mini_df = df_collaborative[['user_id','click_article_id','session_id']]\n",
    "mini_df = mini_df.groupby(by=['user_id','click_article_id'],  as_index = False).agg('count')\n",
    "mini_df.rename(columns={\"user_id\": \"userId\", \"click_article_id\": \"articleId\", \"session_id\": \"clicks\"}, inplace=True)\n",
    "mini_df.columns = ['userID', 'articles', 'clicks']"
   ]
  },
  {
   "cell_type": "code",
   "execution_count": 15,
   "id": "b7e9579c-aa0b-4f1e-b754-223c6f9bbb03",
   "metadata": {},
   "outputs": [],
   "source": [
    "mini_df.to_csv('mini_df.csv', index_label=False)"
   ]
  },
  {
   "cell_type": "code",
   "execution_count": 17,
   "id": "50920158-8d6a-48df-bf51-fc7c5bfeb4c6",
   "metadata": {},
   "outputs": [],
   "source": [
    "mini_dff = pd.read_csv('mini_df.csv')"
   ]
  },
  {
   "cell_type": "code",
   "execution_count": 18,
   "id": "318a596b-e4db-4911-906b-1ccec6ceeb8a",
   "metadata": {},
   "outputs": [
    {
     "data": {
      "text/html": [
       "<div>\n",
       "<style scoped>\n",
       "    .dataframe tbody tr th:only-of-type {\n",
       "        vertical-align: middle;\n",
       "    }\n",
       "\n",
       "    .dataframe tbody tr th {\n",
       "        vertical-align: top;\n",
       "    }\n",
       "\n",
       "    .dataframe thead th {\n",
       "        text-align: right;\n",
       "    }\n",
       "</style>\n",
       "<table border=\"1\" class=\"dataframe\">\n",
       "  <thead>\n",
       "    <tr style=\"text-align: right;\">\n",
       "      <th></th>\n",
       "      <th>userID</th>\n",
       "      <th>articles</th>\n",
       "      <th>clicks</th>\n",
       "    </tr>\n",
       "  </thead>\n",
       "  <tbody>\n",
       "    <tr>\n",
       "      <th>0</th>\n",
       "      <td>0</td>\n",
       "      <td>68866</td>\n",
       "      <td>1</td>\n",
       "    </tr>\n",
       "    <tr>\n",
       "      <th>1</th>\n",
       "      <td>0</td>\n",
       "      <td>87205</td>\n",
       "      <td>1</td>\n",
       "    </tr>\n",
       "    <tr>\n",
       "      <th>2</th>\n",
       "      <td>0</td>\n",
       "      <td>87224</td>\n",
       "      <td>1</td>\n",
       "    </tr>\n",
       "    <tr>\n",
       "      <th>3</th>\n",
       "      <td>0</td>\n",
       "      <td>96755</td>\n",
       "      <td>1</td>\n",
       "    </tr>\n",
       "    <tr>\n",
       "      <th>4</th>\n",
       "      <td>0</td>\n",
       "      <td>157541</td>\n",
       "      <td>1</td>\n",
       "    </tr>\n",
       "  </tbody>\n",
       "</table>\n",
       "</div>"
      ],
      "text/plain": [
       "   userID  articles  clicks\n",
       "0       0     68866       1\n",
       "1       0     87205       1\n",
       "2       0     87224       1\n",
       "3       0     96755       1\n",
       "4       0    157541       1"
      ]
     },
     "execution_count": 18,
     "metadata": {},
     "output_type": "execute_result"
    }
   ],
   "source": [
    "mini_dff.head()"
   ]
  },
  {
   "cell_type": "code",
   "execution_count": 6,
   "id": "766b56a5-f914-448d-b474-6a3de740b288",
   "metadata": {},
   "outputs": [],
   "source": [
    "reader = Reader(rating_scale=(0, 5))\n",
    "data = Dataset.load_from_df(df[['userID', 'articles', 'clicks']], reader)\n",
    "#trainset = data.build_full_trainset()\n",
    "#trainset, testset = train_test_split(data, test_size=0.25)"
   ]
  },
  {
   "cell_type": "markdown",
   "id": "32cc2bd9-a15a-45bc-b044-1e64fe6c36a5",
   "metadata": {},
   "source": [
    "#### <font color='#191970'>&#9630;   SVD</font>"
   ]
  },
  {
   "cell_type": "code",
   "execution_count": 33,
   "id": "fc41b26b-de10-4f74-9b4f-2f9c8aafb32d",
   "metadata": {},
   "outputs": [
    {
     "name": "stdout",
     "output_type": "stream",
     "text": [
      "Evaluating RMSE, MAE of algorithm SVD on 3 split(s).\n",
      "\n",
      "                  Fold 1  Fold 2  Fold 3  Mean    Std     \n",
      "RMSE (testset)    0.1347  0.1366  0.1394  0.1369  0.0019  \n",
      "MAE (testset)     0.0375  0.0375  0.0374  0.0375  0.0001  \n",
      "Fit time          23.07   23.51   24.53   23.70   0.61    \n",
      "Test time         11.31   8.37    11.47   10.38   1.42    \n"
     ]
    }
   ],
   "source": [
    "algo_svd = SVD()\n",
    "result_svd = cross_validate(algo_svd, data, measures=[\"RMSE\", \"MAE\"], cv=3, verbose=True)"
   ]
  },
  {
   "cell_type": "markdown",
   "id": "2e843774-cab1-4a88-81c9-01e0c3cb1f64",
   "metadata": {},
   "source": [
    "#### <font color='#191970'>&#9630;   NMF</font>"
   ]
  },
  {
   "cell_type": "code",
   "execution_count": 36,
   "id": "f5d33e85-1fd5-4616-8823-0305be2945e6",
   "metadata": {},
   "outputs": [
    {
     "name": "stdout",
     "output_type": "stream",
     "text": [
      "Evaluating RMSE, MAE of algorithm NMF on 3 split(s).\n",
      "\n",
      "                  Fold 1  Fold 2  Fold 3  Mean    Std     \n",
      "RMSE (testset)    0.1523  0.1488  0.1473  0.1495  0.0021  \n",
      "MAE (testset)     0.0725  0.0722  0.0725  0.0724  0.0002  \n",
      "Fit time          53.20   53.64   52.07   52.97   0.66    \n",
      "Test time         20.60   17.40   15.85   17.95   1.98    \n"
     ]
    }
   ],
   "source": [
    "algo_nmf = NMF()\n",
    "result_nmf = cross_validate(algo_nmf, data, measures=[\"RMSE\", \"MAE\"], cv=3, verbose=True)"
   ]
  },
  {
   "cell_type": "markdown",
   "id": "f5452362-b66a-4c46-871a-10606fa5d209",
   "metadata": {},
   "source": [
    "#### <font color='#191970'>&#9630;   BaselineOnly</font>"
   ]
  },
  {
   "cell_type": "code",
   "execution_count": 40,
   "id": "bf83c077-cbfc-4fa5-8f18-3ffd7554861c",
   "metadata": {},
   "outputs": [
    {
     "name": "stdout",
     "output_type": "stream",
     "text": [
      "Estimating biases using als...\n",
      "Estimating biases using als...\n",
      "Estimating biases using als...\n",
      "Evaluating RMSE, MAE of algorithm BaselineOnly on 3 split(s).\n",
      "\n",
      "                  Fold 1  Fold 2  Fold 3  Mean    Std     \n",
      "RMSE (testset)    0.1284  0.1357  0.1297  0.1313  0.0032  \n",
      "MAE (testset)     0.0260  0.0262  0.0260  0.0261  0.0001  \n",
      "Fit time          9.75    10.39   10.36   10.17   0.29    \n",
      "Test time         19.17   9.48    9.12    12.59   4.65    \n"
     ]
    }
   ],
   "source": [
    "algo_BO = BaselineOnly()\n",
    "result_BO = cross_validate(algo_BO, data, measures=[\"RMSE\", \"MAE\"], cv=3, verbose=True)"
   ]
  },
  {
   "cell_type": "markdown",
   "id": "fff8cf34-277f-49c0-b022-17df89dc0d66",
   "metadata": {},
   "source": [
    "#### <font color='#191970'>&#9630;   SVDpp</font>"
   ]
  },
  {
   "cell_type": "code",
   "execution_count": 39,
   "id": "35e1670e-2ef6-44df-a006-f308ec2cc11a",
   "metadata": {},
   "outputs": [
    {
     "name": "stdout",
     "output_type": "stream",
     "text": [
      "Evaluating RMSE, MAE of algorithm SVDpp on 3 split(s).\n",
      "\n",
      "                  Fold 1  Fold 2  Fold 3  Mean    Std     \n",
      "RMSE (testset)    0.1345  0.1373  0.1280  0.1333  0.0039  \n",
      "MAE (testset)     0.0298  0.0298  0.0297  0.0297  0.0000  \n",
      "Fit time          65.00   68.62   70.80   68.14   2.39    \n",
      "Test time         93.10   95.94   110.39  99.81   7.57    \n"
     ]
    }
   ],
   "source": [
    "algo_svdpp = SVDpp()\n",
    "result_svdpp = cross_validate(algo_svdpp, data, measures=[\"RMSE\", \"MAE\"], cv=3, verbose=True)"
   ]
  },
  {
   "cell_type": "markdown",
   "id": "ba16ed83-18e2-4c6a-b470-b4ca99f32ed6",
   "metadata": {},
   "source": [
    "### <font color='#191970'> IV Comparaison des modèles et temps des predictions individuelles</font>"
   ]
  },
  {
   "cell_type": "code",
   "execution_count": 10,
   "id": "760dbca2-8ca9-4342-81f4-98e5670e7f79",
   "metadata": {},
   "outputs": [],
   "source": [
    "def recommend_items(uid,topn=5, algo=SVD()):\n",
    "    \"\"\"\n",
    "    prend en entrée le user _id et renvoie les tops recommendataion\n",
    "    \"\"\"\n",
    "    iid_to_ignore=set(df.loc[df.userID==uid].articles)\n",
    "    items2pred=pd.DataFrame(set(df.articles)-iid_to_ignore,columns=['articles'])\n",
    "    items2pred['pred']=items2pred['articles'].apply(lambda x:algo.predict(uid=uid, iid=x)[3])\n",
    "    if topn==0:\n",
    "        recommendations_df=items2pred.loc[:,['articles','pred']].sort_values(by='pred', ascending=False)\n",
    "    else:\n",
    "        recommendations_df=items2pred.loc[:,['articles','pred']].sort_values(by='pred', ascending=False).head(topn)\n",
    "    result = list(recommendations_df.index)\n",
    "    resultat = \"\"\n",
    "    for i in range(5): \n",
    "        if i != 4:\n",
    "            resultat += str(result[i]) + \", \"\n",
    "        else:\n",
    "            resultat += str(result[i]) \n",
    "                  \n",
    "    return resultat"
   ]
  },
  {
   "cell_type": "code",
   "execution_count": 47,
   "id": "d2cbbe3e-d7ce-4a9b-976a-dd9dccfa6d64",
   "metadata": {},
   "outputs": [
    {
     "name": "stdout",
     "output_type": "stream",
     "text": [
      "CPU times: total: 484 ms\n",
      "Wall time: 528 ms\n"
     ]
    }
   ],
   "source": [
    "%%time\n",
    "recommendation_svd = recommend_items(2546,5,algo_svd)"
   ]
  },
  {
   "cell_type": "code",
   "execution_count": 48,
   "id": "2896a02d-ac13-4e75-a4a9-ff532c201b6c",
   "metadata": {},
   "outputs": [
    {
     "name": "stdout",
     "output_type": "stream",
     "text": [
      "CPU times: total: 469 ms\n",
      "Wall time: 488 ms\n"
     ]
    }
   ],
   "source": [
    "%%time\n",
    "recommendation_nmf = recommend_items(2546,5,algo_nmf)"
   ]
  },
  {
   "cell_type": "code",
   "execution_count": 49,
   "id": "fe723586-f631-46b8-ae43-7bd31174a24f",
   "metadata": {},
   "outputs": [
    {
     "name": "stdout",
     "output_type": "stream",
     "text": [
      "CPU times: total: 391 ms\n",
      "Wall time: 430 ms\n"
     ]
    }
   ],
   "source": [
    "%%time\n",
    "recommendation_BO = recommend_items(2546,5,algo_BO)"
   ]
  },
  {
   "cell_type": "code",
   "execution_count": 50,
   "id": "6f90c44a-7773-435c-9e41-e8d82d0bf1d7",
   "metadata": {},
   "outputs": [
    {
     "name": "stdout",
     "output_type": "stream",
     "text": [
      "CPU times: total: 1 s\n",
      "Wall time: 1.03 s\n"
     ]
    }
   ],
   "source": [
    "%%time\n",
    "recommendation_svdpp = recommend_items(2546,5,algo_svdpp)"
   ]
  },
  {
   "cell_type": "markdown",
   "id": "1ee8f866-7551-4bb5-a9c0-d07e9228a284",
   "metadata": {},
   "source": [
    "On constate qu'en terme de temps et de précision, l'algorithme BaselineOnly est le plus rapide et le plus performant. Essayons de tuner ses hyperparamètres pour le rendre encore plus performant."
   ]
  },
  {
   "cell_type": "markdown",
   "id": "63906678-acd0-44c3-be5a-65f46f332635",
   "metadata": {},
   "source": [
    "### <font color='#191970'> V Tunning du modèle BaselineOnly</font>"
   ]
  },
  {
   "cell_type": "code",
   "execution_count": 12,
   "id": "6a1dd27c-76b5-42cd-b767-eafef35932ef",
   "metadata": {},
   "outputs": [
    {
     "name": "stdout",
     "output_type": "stream",
     "text": [
      "Estimating biases using als...\n",
      "Estimating biases using als...\n",
      "Estimating biases using als...\n",
      "Estimating biases using als...\n",
      "Estimating biases using als...\n",
      "Estimating biases using als...\n",
      "Estimating biases using als...\n",
      "Estimating biases using als...\n",
      "Estimating biases using als...\n",
      "Estimating biases using als...\n",
      "Estimating biases using als...\n",
      "Estimating biases using als...\n",
      "Estimating biases using sgd...\n",
      "Estimating biases using sgd...\n",
      "Estimating biases using sgd...\n",
      "Estimating biases using sgd...\n",
      "Estimating biases using sgd...\n",
      "Estimating biases using sgd...\n",
      "Estimating biases using sgd...\n",
      "Estimating biases using sgd...\n",
      "Estimating biases using sgd...\n",
      "Estimating biases using sgd...\n",
      "Estimating biases using sgd...\n",
      "Estimating biases using sgd...\n",
      "0.13115496077600572\n",
      "{'bsl_options': {'method': 'als', 'reg': 1, 'n_epochs': 10}}\n"
     ]
    }
   ],
   "source": [
    "#param_grid = {\"n_epochs\": [5, 10], \"lr_all\": [0.002, 0.005], \"reg_all\": [0.4, 0.6]}\n",
    "# bsl_options = {\"method\": \"als\", \"n_epochs\": 5, \"reg_u\": 12, \"reg_i\": 5}\n",
    "param_grid = {\n",
    "    'bsl_options': {\n",
    "        'method': ['als', 'sgd'],  # méthode pour effectuer la decomposition matricielle\n",
    "        'reg': [1, 2],\n",
    "        'n_epochs': [5,10]\n",
    "    }\n",
    "}\n",
    "\n",
    "gs = GridSearchCV(BaselineOnly, param_grid, measures=[\"rmse\", \"mae\"], cv=3)\n",
    "\n",
    "gs.fit(data)\n",
    "\n",
    "# best RMSE score\n",
    "print(gs.best_score[\"rmse\"])\n",
    "\n",
    "# combination of parameters that gave the best RMSE score\n",
    "print(gs.best_params[\"rmse\"])"
   ]
  },
  {
   "cell_type": "code",
   "execution_count": 13,
   "id": "f5763012-21b7-4360-8ef5-50288470bb7b",
   "metadata": {},
   "outputs": [],
   "source": [
    "bsl_options = {\"method\": \"als\", \"n_epochs\": 10, \"reg\": 1}\n",
    "algo_azure = BaselineOnly(bsl_options=bsl_options)"
   ]
  },
  {
   "cell_type": "code",
   "execution_count": 14,
   "id": "5d7dd369-073a-4ce2-904d-c36ec3a660df",
   "metadata": {},
   "outputs": [
    {
     "name": "stdout",
     "output_type": "stream",
     "text": [
      "Estimating biases using als...\n",
      "Estimating biases using als...\n",
      "Estimating biases using als...\n",
      "Evaluating RMSE, MAE of algorithm BaselineOnly on 3 split(s).\n",
      "\n",
      "                  Fold 1  Fold 2  Fold 3  Mean    Std     \n",
      "RMSE (testset)    0.1280  0.1358  0.1298  0.1312  0.0033  \n",
      "MAE (testset)     0.0261  0.0261  0.0260  0.0261  0.0000  \n",
      "Fit time          9.72    10.36   10.37   10.15   0.30    \n",
      "Test time         7.86    7.24    7.06    7.39    0.34    \n"
     ]
    }
   ],
   "source": [
    "result_azure = cross_validate(algo_azure, data, measures=[\"RMSE\", \"MAE\"], cv=3, verbose=True)"
   ]
  },
  {
   "cell_type": "code",
   "execution_count": 16,
   "id": "facb474f-c5f2-43f0-80fa-bd002b5fcd22",
   "metadata": {},
   "outputs": [
    {
     "name": "stdout",
     "output_type": "stream",
     "text": [
      "Estimating biases using als...\n"
     ]
    },
    {
     "data": {
      "text/plain": [
       "<surprise.prediction_algorithms.baseline_only.BaselineOnly at 0x1bbd9707670>"
      ]
     },
     "execution_count": 16,
     "metadata": {},
     "output_type": "execute_result"
    }
   ],
   "source": [
    "trainset = data.build_full_trainset()\n",
    "algo_azure.fit(trainset)"
   ]
  },
  {
   "cell_type": "code",
   "execution_count": 45,
   "id": "d0e06656-d181-4dd5-a9e0-351aee0cd670",
   "metadata": {},
   "outputs": [],
   "source": [
    "# save the knn_model to disk\n",
    "filename = 'model_azure.sav'\n",
    "pickle.dump(algo_azure, open(filename, 'wb'))"
   ]
  },
  {
   "cell_type": "code",
   "execution_count": 46,
   "id": "04f43711-69cb-4511-a134-bf9b8c68a95e",
   "metadata": {},
   "outputs": [],
   "source": [
    "# load the model from disk\n",
    "filename = 'model_azure.sav'\n",
    "model_reloaded = pickle.load(open(filename, 'rb'))"
   ]
  },
  {
   "cell_type": "code",
   "execution_count": 65,
   "id": "2483849e-5f0a-4017-8ee4-bd6510aa9835",
   "metadata": {},
   "outputs": [],
   "source": [
    "recommendation_modele_charge = recommend_items(2546,5,model_reloaded)"
   ]
  },
  {
   "cell_type": "code",
   "execution_count": 66,
   "id": "a801dff2-60d4-4472-a4b2-9d556e80213c",
   "metadata": {},
   "outputs": [
    {
     "data": {
      "text/plain": [
       "'25786, 38551, 40400, 27811, 36312'"
      ]
     },
     "execution_count": 66,
     "metadata": {},
     "output_type": "execute_result"
    }
   ],
   "source": [
    "recommendation_modele_charge"
   ]
  }
 ],
 "metadata": {
  "kernelspec": {
   "display_name": "pro7_env",
   "language": "python",
   "name": "pro7_env"
  },
  "language_info": {
   "codemirror_mode": {
    "name": "ipython",
    "version": 3
   },
   "file_extension": ".py",
   "mimetype": "text/x-python",
   "name": "python",
   "nbconvert_exporter": "python",
   "pygments_lexer": "ipython3",
   "version": "3.9.12"
  }
 },
 "nbformat": 4,
 "nbformat_minor": 5
}
